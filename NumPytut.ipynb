{
 "cells": [
  {
   "cell_type": "code",
   "execution_count": 1,
   "id": "5853c230",
   "metadata": {},
   "outputs": [],
   "source": [
    "import numpy as np"
   ]
  },
  {
   "cell_type": "code",
   "execution_count": 2,
   "id": "6b47419e",
   "metadata": {},
   "outputs": [
    {
     "name": "stdout",
     "output_type": "stream",
     "text": [
      "[1 2 3 4]\n",
      "<class 'numpy.ndarray'>\n"
     ]
    }
   ],
   "source": [
    "x=np.array([1,2,3,4])\n",
    "print(x)\n",
    "print(type(x))"
   ]
  },
  {
   "cell_type": "code",
   "execution_count": 3,
   "id": "09a6eabb",
   "metadata": {},
   "outputs": [
    {
     "name": "stdout",
     "output_type": "stream",
     "text": [
      "[1, 2, 3, 4]\n",
      "<class 'list'>\n"
     ]
    }
   ],
   "source": [
    "y=[1,2,3,4]\n",
    "print(y)\n",
    "print(type(y))"
   ]
  },
  {
   "cell_type": "markdown",
   "id": "74ebdd08",
   "metadata": {},
   "source": [
    "%timeit is used to check the time in creation of list or array"
   ]
  },
  {
   "cell_type": "code",
   "execution_count": 4,
   "id": "33ac6537",
   "metadata": {},
   "outputs": [
    {
     "name": "stdout",
     "output_type": "stream",
     "text": [
      "2.32 µs ± 259 ns per loop (mean ± std. dev. of 7 runs, 100,000 loops each)\n"
     ]
    }
   ],
   "source": [
    "%timeit [j**4 for j in range(1,9)]"
   ]
  },
  {
   "cell_type": "code",
   "execution_count": 6,
   "id": "367916b5",
   "metadata": {},
   "outputs": [
    {
     "name": "stdout",
     "output_type": "stream",
     "text": [
      "1.53 µs ± 64.5 ns per loop (mean ± std. dev. of 7 runs, 1,000,000 loops each)\n"
     ]
    }
   ],
   "source": [
    "%timeit np.arange(1,9)**4"
   ]
  },
  {
   "cell_type": "markdown",
   "id": "a3879979",
   "metadata": {},
   "source": [
    "# creation of array \n"
   ]
  },
  {
   "cell_type": "code",
   "execution_count": 17,
   "id": "2d3b1ab1",
   "metadata": {},
   "outputs": [
    {
     "name": "stdout",
     "output_type": "stream",
     "text": [
      "[1 2 3]\n",
      "1\n"
     ]
    }
   ],
   "source": [
    "x=np.array([1,2,3])\n",
    "print(x)\n",
    "\n",
    "print(x.ndim)"
   ]
  },
  {
   "cell_type": "code",
   "execution_count": 15,
   "id": "3dcf1c3a",
   "metadata": {},
   "outputs": [
    {
     "name": "stdout",
     "output_type": "stream",
     "text": [
      "enter: 12\n",
      "enter: 13\n",
      "enter: 14\n",
      "enter: 15\n",
      "[12 13 14 15]\n"
     ]
    }
   ],
   "source": [
    "l=[]\n",
    "\n",
    "for i in range(1,5):\n",
    "    int_1=int(input(\"enter: \"))\n",
    "    l.append(int_1)\n",
    "\n",
    "print(np.array(l)) "
   ]
  },
  {
   "cell_type": "code",
   "execution_count": 18,
   "id": "33a76743",
   "metadata": {},
   "outputs": [
    {
     "name": "stdout",
     "output_type": "stream",
     "text": [
      "[[1 2 3 4]\n",
      " [1 2 3 4]]\n",
      "2\n"
     ]
    }
   ],
   "source": [
    "ar_2=np.array([[1,2,3,4],[1,2,3,4]])\n",
    "print(ar_2)\n",
    "print(ar_2.ndim)"
   ]
  },
  {
   "cell_type": "code",
   "execution_count": 19,
   "id": "d5167754",
   "metadata": {},
   "outputs": [
    {
     "name": "stdout",
     "output_type": "stream",
     "text": [
      "[[[1 2 3 4]\n",
      "  [1 2 3 4]\n",
      "  [1 2 3 4]]]\n",
      "3\n"
     ]
    }
   ],
   "source": [
    "ar_3=np.array([[[1,2,3,4],[1,2,3,4],[1,2,3,4]]])\n",
    "print(ar_3)\n",
    "print(ar_3.ndim)"
   ]
  },
  {
   "cell_type": "code",
   "execution_count": 20,
   "id": "3e66fec7",
   "metadata": {},
   "outputs": [
    {
     "name": "stdout",
     "output_type": "stream",
     "text": [
      "[[[[[[[[[[1 2 3 4]]]]]]]]]]\n",
      "10\n"
     ]
    }
   ],
   "source": [
    "ar_n=np.array([1,2,3,4],ndmin=10)\n",
    "print(ar_n)\n",
    "print(ar_n.ndim)"
   ]
  },
  {
   "cell_type": "markdown",
   "id": "e13875a3",
   "metadata": {},
   "source": [
    "# array with numpy functions"
   ]
  },
  {
   "cell_type": "code",
   "execution_count": 21,
   "id": "336fc315",
   "metadata": {},
   "outputs": [
    {
     "name": "stdout",
     "output_type": "stream",
     "text": [
      "[0. 0. 0. 0.]\n"
     ]
    }
   ],
   "source": [
    "a=np.zeros(4)\n",
    "print(a)"
   ]
  },
  {
   "cell_type": "code",
   "execution_count": 26,
   "id": "013252b9",
   "metadata": {},
   "outputs": [
    {
     "name": "stdout",
     "output_type": "stream",
     "text": [
      "[[0. 0. 0. 0.]\n",
      " [0. 0. 0. 0.]\n",
      " [0. 0. 0. 0.]]\n"
     ]
    }
   ],
   "source": [
    "a=np.zeros((3,4))\n",
    "print(a)"
   ]
  },
  {
   "cell_type": "code",
   "execution_count": 27,
   "id": "fa4982ec",
   "metadata": {},
   "outputs": [
    {
     "name": "stdout",
     "output_type": "stream",
     "text": [
      "[1. 1. 1. 1.]\n"
     ]
    }
   ],
   "source": [
    "b=np.ones(4)\n",
    "print(b)"
   ]
  },
  {
   "cell_type": "code",
   "execution_count": 28,
   "id": "4a72379c",
   "metadata": {},
   "outputs": [
    {
     "name": "stdout",
     "output_type": "stream",
     "text": [
      "[[1. 1. 1. 1. 1.]\n",
      " [1. 1. 1. 1. 1.]\n",
      " [1. 1. 1. 1. 1.]\n",
      " [1. 1. 1. 1. 1.]]\n"
     ]
    }
   ],
   "source": [
    "b=np.ones((4,5))\n",
    "print(b)"
   ]
  },
  {
   "cell_type": "code",
   "execution_count": 29,
   "id": "06b55ba5",
   "metadata": {},
   "outputs": [
    {
     "name": "stdout",
     "output_type": "stream",
     "text": [
      "[1. 1. 1. 1.]\n"
     ]
    }
   ],
   "source": [
    "c=np.empty(4)\n",
    "print(c)"
   ]
  },
  {
   "cell_type": "markdown",
   "id": "7b948a1f",
   "metadata": {},
   "source": [
    "1 isiliye aaya h kyuki empty array m previous wala data khud aa jata h "
   ]
  },
  {
   "cell_type": "markdown",
   "id": "98203156",
   "metadata": {},
   "source": [
    "# range"
   ]
  },
  {
   "cell_type": "code",
   "execution_count": 30,
   "id": "da301c0f",
   "metadata": {},
   "outputs": [
    {
     "name": "stdout",
     "output_type": "stream",
     "text": [
      "[0 1 2 3]\n"
     ]
    }
   ],
   "source": [
    "d=np.arange(4)\n",
    "print(d)"
   ]
  },
  {
   "cell_type": "markdown",
   "id": "99879783",
   "metadata": {},
   "source": [
    "# diagonal"
   ]
  },
  {
   "cell_type": "code",
   "execution_count": 31,
   "id": "2e55e970",
   "metadata": {},
   "outputs": [
    {
     "name": "stdout",
     "output_type": "stream",
     "text": [
      "[[1. 0. 0.]\n",
      " [0. 1. 0.]\n",
      " [0. 0. 1.]]\n"
     ]
    }
   ],
   "source": [
    "e=np.eye(3)\n",
    "print(e)"
   ]
  },
  {
   "cell_type": "code",
   "execution_count": 34,
   "id": "8b4f9781",
   "metadata": {},
   "outputs": [
    {
     "name": "stdout",
     "output_type": "stream",
     "text": [
      "[[1. 0. 0. 0. 0.]\n",
      " [0. 1. 0. 0. 0.]\n",
      " [0. 0. 1. 0. 0.]]\n"
     ]
    }
   ],
   "source": [
    "e=np.eye(3,5)\n",
    "print(e)"
   ]
  },
  {
   "cell_type": "markdown",
   "id": "96c2cebc",
   "metadata": {},
   "source": [
    "# linspace"
   ]
  },
  {
   "cell_type": "code",
   "execution_count": 38,
   "id": "106a199b",
   "metadata": {},
   "outputs": [
    {
     "name": "stdout",
     "output_type": "stream",
     "text": [
      "[ 0.  5. 10. 15. 20.]\n"
     ]
    }
   ],
   "source": [
    "f=np.linspace(0,20,num=5)\n",
    "print(f)"
   ]
  },
  {
   "cell_type": "markdown",
   "id": "58fa9682",
   "metadata": {},
   "source": [
    "# Random"
   ]
  },
  {
   "cell_type": "markdown",
   "id": "95ec9e20",
   "metadata": {},
   "source": [
    "rand() is used to generate a random value between 0 and 1"
   ]
  },
  {
   "cell_type": "code",
   "execution_count": 2,
   "id": "93630dea",
   "metadata": {},
   "outputs": [
    {
     "name": "stdout",
     "output_type": "stream",
     "text": [
      "[0.99118626 0.47570422 0.2744213  0.77949648]\n"
     ]
    }
   ],
   "source": [
    "import numpy as np\n",
    "var=np.random.rand(4)\n",
    "print(var)"
   ]
  },
  {
   "cell_type": "code",
   "execution_count": 3,
   "id": "8d122a5f",
   "metadata": {},
   "outputs": [
    {
     "name": "stdout",
     "output_type": "stream",
     "text": [
      "[[0.33466447 0.81502677 0.6819879  0.07900515 0.29679177]\n",
      " [0.95751751 0.6335629  0.32065294 0.1978301  0.81688949]]\n"
     ]
    }
   ],
   "source": [
    "var1=np.random.rand(2,5)\n",
    "print(var1)"
   ]
  },
  {
   "cell_type": "markdown",
   "id": "f3ee044e",
   "metadata": {},
   "source": [
    "randn() is used to generate random numbers near the value of 0 .it can be either positive or negative"
   ]
  },
  {
   "cell_type": "code",
   "execution_count": 4,
   "id": "3d3c8035",
   "metadata": {},
   "outputs": [
    {
     "name": "stdout",
     "output_type": "stream",
     "text": [
      "[ 1.39787459 -0.55637886  1.06519254 -0.68082929]\n"
     ]
    }
   ],
   "source": [
    "var2=np.random.randn(4)\n",
    "print(var2)"
   ]
  },
  {
   "cell_type": "markdown",
   "id": "12dd309c",
   "metadata": {},
   "source": [
    "ranf() range[0,1)"
   ]
  },
  {
   "cell_type": "code",
   "execution_count": 6,
   "id": "1603629b",
   "metadata": {},
   "outputs": [
    {
     "name": "stdout",
     "output_type": "stream",
     "text": [
      "[0.37230734 0.57508549 0.91110499 0.6989913 ]\n"
     ]
    }
   ],
   "source": [
    "var3=np.random.ranf(4)\n",
    "print(var3)"
   ]
  },
  {
   "cell_type": "markdown",
   "id": "16fd9534",
   "metadata": {},
   "source": [
    "randint()  is used to generate random numbers between the specific numbers\n",
    "syntax:- randit(min,max,total_values)"
   ]
  },
  {
   "cell_type": "code",
   "execution_count": 11,
   "id": "f82e93b2",
   "metadata": {},
   "outputs": [
    {
     "name": "stdout",
     "output_type": "stream",
     "text": [
      "[21 52 58  4  4 60 84 25 13]\n"
     ]
    }
   ],
   "source": [
    "var4=np.random.randint(4,94,9)\n",
    "print(var4)"
   ]
  },
  {
   "cell_type": "markdown",
   "id": "6a27ae73",
   "metadata": {},
   "source": [
    "# Data Types"
   ]
  },
  {
   "cell_type": "code",
   "execution_count": 14,
   "id": "40394a4e",
   "metadata": {},
   "outputs": [
    {
     "name": "stdout",
     "output_type": "stream",
     "text": [
      "Data type:  int32\n"
     ]
    }
   ],
   "source": [
    "var=np.array([1,2,3,4])\n",
    "print(\"Data type: \",var.dtype)"
   ]
  },
  {
   "cell_type": "code",
   "execution_count": 15,
   "id": "ac4d612d",
   "metadata": {},
   "outputs": [
    {
     "name": "stdout",
     "output_type": "stream",
     "text": [
      "Data type:  float64\n"
     ]
    }
   ],
   "source": [
    "var=np.array([1.0,2.3,4.4,2.2])\n",
    "print(\"Data type: \",var.dtype)"
   ]
  },
  {
   "cell_type": "code",
   "execution_count": 16,
   "id": "f7251250",
   "metadata": {},
   "outputs": [
    {
     "name": "stdout",
     "output_type": "stream",
     "text": [
      "Data type:  <U1\n"
     ]
    }
   ],
   "source": [
    "var=np.array([\"a\",\"b\",\"c\"])\n",
    "print(\"Data type: \",var.dtype)"
   ]
  },
  {
   "cell_type": "code",
   "execution_count": 17,
   "id": "c613004d",
   "metadata": {},
   "outputs": [
    {
     "name": "stdout",
     "output_type": "stream",
     "text": [
      "Data type:  <U11\n"
     ]
    }
   ],
   "source": [
    "var=np.array([1,2,\"a\",\"b\"])\n",
    "print(\"Data type: \",var.dtype)"
   ]
  },
  {
   "cell_type": "markdown",
   "id": "34f610bb",
   "metadata": {},
   "source": [
    "# conversion of data types"
   ]
  },
  {
   "cell_type": "code",
   "execution_count": 19,
   "id": "e4fd829e",
   "metadata": {},
   "outputs": [
    {
     "name": "stdout",
     "output_type": "stream",
     "text": [
      "Data type:  int8\n"
     ]
    }
   ],
   "source": [
    "var=np.array([1,2,3,4],dtype=np.int8)\n",
    "print(\"Data type: \",var.dtype)"
   ]
  },
  {
   "cell_type": "code",
   "execution_count": 22,
   "id": "93492e66",
   "metadata": {},
   "outputs": [
    {
     "name": "stdout",
     "output_type": "stream",
     "text": [
      "Data type:  float32\n",
      "[1. 2. 3. 4.]\n"
     ]
    }
   ],
   "source": [
    "var=np.array([1,2,3,4],dtype=\"f\")\n",
    "print(\"Data type: \",var.dtype)\n",
    "print(var)"
   ]
  },
  {
   "cell_type": "code",
   "execution_count": 23,
   "id": "3659936c",
   "metadata": {},
   "outputs": [
    {
     "name": "stdout",
     "output_type": "stream",
     "text": [
      "Data type:  int32\n",
      "Data type:  float32\n",
      "Data type:  int32\n",
      "[1 2 3 4]\n",
      "[1. 2. 3. 4.]\n",
      "[1 2 3 4]\n"
     ]
    }
   ],
   "source": [
    "var=np.array([1,2,3,4])\n",
    "new=np.float32(var)\n",
    "new_one=np.int_(var)\n",
    "\n",
    "print(\"Data type: \",var.dtype)\n",
    "print(\"Data type: \",new.dtype)\n",
    "print(\"Data type: \",new_one.dtype)\n",
    "\n",
    "print(var)\n",
    "print(new)\n",
    "print(new_one)"
   ]
  },
  {
   "cell_type": "code",
   "execution_count": 25,
   "id": "a65e9401",
   "metadata": {},
   "outputs": [
    {
     "name": "stdout",
     "output_type": "stream",
     "text": [
      "Data type:  int32\n",
      "Data type:  float64\n",
      "[1 2 3 4]\n",
      "[1. 2. 3. 4.]\n"
     ]
    }
   ],
   "source": [
    "var=np.array([1,2,3,4])\n",
    "new_1=var.astype(float)\n",
    "\n",
    "print(\"Data type: \",var.dtype)\n",
    "print(\"Data type: \",new_1.dtype)\n",
    "\n",
    "print(var)\n",
    "print(new_1)"
   ]
  },
  {
   "cell_type": "markdown",
   "id": "d6b052d3",
   "metadata": {},
   "source": [
    "# Arithmatic operations "
   ]
  },
  {
   "cell_type": "raw",
   "id": "c30257fa",
   "metadata": {},
   "source": [
    "1. np.add(a,b)\n",
    "2. np.subtract(a,b)\n",
    "3. np.multiply(a.b)\n",
    "4. np.divide(a,b)\n",
    "5. np.reciprocal(a)\n",
    "6. np.mod(a,b)\n",
    "7. np.power(a,b)"
   ]
  },
  {
   "cell_type": "code",
   "execution_count": 3,
   "id": "1043238c",
   "metadata": {},
   "outputs": [
    {
     "name": "stdout",
     "output_type": "stream",
     "text": [
      "[3 5 7 9]\n"
     ]
    }
   ],
   "source": [
    "import numpy as np\n",
    "var1=np.array([1,2,3,4])\n",
    "var2=np.array([2,3,4,5])\n",
    "varadd=var1+var2\n",
    "print(varadd)"
   ]
  },
  {
   "cell_type": "code",
   "execution_count": 4,
   "id": "04572b22",
   "metadata": {},
   "outputs": [
    {
     "name": "stdout",
     "output_type": "stream",
     "text": [
      "[3 5 7 9]\n"
     ]
    }
   ],
   "source": [
    "var1=np.array([1,2,3,4])\n",
    "var2=np.array([2,3,4,5])\n",
    "varadd=np.add(var1,var2)\n",
    "print(varadd)"
   ]
  },
  {
   "cell_type": "code",
   "execution_count": 8,
   "id": "af59c86b",
   "metadata": {},
   "outputs": [
    {
     "name": "stdout",
     "output_type": "stream",
     "text": [
      "[[ 1  1  1  1]\n",
      " [-3  1 -1 -1]]\n"
     ]
    }
   ],
   "source": [
    "var1=np.array([[1,2,3,4],[4,1,2,3]])\n",
    "var2=np.array([[2,3,4,5],[1,2,1,2]])\n",
    "varadd=var2-var1\n",
    "print(varadd)"
   ]
  },
  {
   "cell_type": "code",
   "execution_count": 6,
   "id": "872b3919",
   "metadata": {},
   "outputs": [
    {
     "name": "stdout",
     "output_type": "stream",
     "text": [
      "[1 1 1 1]\n"
     ]
    }
   ],
   "source": [
    "var1=np.array([1,2,3,4])\n",
    "var2=np.array([2,3,4,5])\n",
    "varsub=var2-var1\n",
    "print(varsub)"
   ]
  },
  {
   "cell_type": "code",
   "execution_count": 7,
   "id": "19b86419",
   "metadata": {},
   "outputs": [
    {
     "name": "stdout",
     "output_type": "stream",
     "text": [
      "[1 1 1 1]\n"
     ]
    }
   ],
   "source": [
    "var1=np.array([1,2,3,4])\n",
    "var2=np.array([2,3,4,5])\n",
    "varsub=np.subtract(var2,var1)\n",
    "print(varsub)"
   ]
  },
  {
   "cell_type": "code",
   "execution_count": 9,
   "id": "6d2e7313",
   "metadata": {},
   "outputs": [
    {
     "name": "stdout",
     "output_type": "stream",
     "text": [
      "[[ 1  1  1  1]\n",
      " [ 1 10 10  0]]\n"
     ]
    }
   ],
   "source": [
    "var1=np.array([[1,2,3,4],[1,1,1,1]])\n",
    "var2=np.array([[2,3,4,5],[2,11,11,1]])\n",
    "varsub=np.subtract(var2,var1)\n",
    "print(varsub)\n"
   ]
  },
  {
   "cell_type": "code",
   "execution_count": 10,
   "id": "d953c75d",
   "metadata": {},
   "outputs": [
    {
     "name": "stdout",
     "output_type": "stream",
     "text": [
      "[ 2  6 12 20]\n"
     ]
    }
   ],
   "source": [
    "var1=np.array([1,2,3,4])\n",
    "var2=np.array([2,3,4,5])\n",
    "varmul=var2*var1\n",
    "print(varmul)"
   ]
  },
  {
   "cell_type": "code",
   "execution_count": 11,
   "id": "e75b67f9",
   "metadata": {},
   "outputs": [
    {
     "name": "stdout",
     "output_type": "stream",
     "text": [
      "[ 2  6 12 20]\n"
     ]
    }
   ],
   "source": [
    "var1=np.array([1,2,3,4])\n",
    "var2=np.array([2,3,4,5])\n",
    "varmul=np.multiply(var1,var2)\n",
    "print(varmul)"
   ]
  },
  {
   "cell_type": "code",
   "execution_count": 12,
   "id": "ef92e0d1",
   "metadata": {},
   "outputs": [
    {
     "name": "stdout",
     "output_type": "stream",
     "text": [
      "[[ 2  6 12 20]\n",
      " [16  9 16 36]]\n"
     ]
    }
   ],
   "source": [
    "var1=np.array([[1,2,3,4],[4,3,4,6]])\n",
    "var2=np.array([[2,3,4,5],[4,3,4,6]])\n",
    "varmul=var2*var1\n",
    "print(varmul)"
   ]
  },
  {
   "cell_type": "code",
   "execution_count": 13,
   "id": "f0e92074",
   "metadata": {},
   "outputs": [
    {
     "name": "stdout",
     "output_type": "stream",
     "text": [
      "[0.5        0.66666667 0.75       0.8       ]\n"
     ]
    }
   ],
   "source": [
    "var1=np.array([1,2,3,4])\n",
    "var2=np.array([2,3,4,5])\n",
    "vardiv=np.divide(var1,var2)\n",
    "print(vardiv)"
   ]
  },
  {
   "cell_type": "code",
   "execution_count": 17,
   "id": "cd86fae1",
   "metadata": {},
   "outputs": [
    {
     "name": "stdout",
     "output_type": "stream",
     "text": [
      "[0 1 1 1]\n"
     ]
    }
   ],
   "source": [
    "#3%2=1\n",
    "var1=np.array([1,2,3,4])\n",
    "var2=np.array([2,3,4,5])\n",
    "varmod=np.mod(var2,var1)\n",
    "print(varmod)"
   ]
  },
  {
   "cell_type": "code",
   "execution_count": 15,
   "id": "4f49a756",
   "metadata": {},
   "outputs": [
    {
     "name": "stdout",
     "output_type": "stream",
     "text": [
      "[1 0 0 0]\n",
      "[0 0 0 0]\n"
     ]
    }
   ],
   "source": [
    "#why 0 jabki float values bhi aa sakti h \n",
    "var1=np.array([1,2,3,4])\n",
    "var2=np.array([2,3,4,5])\n",
    "varreci1=np.reciprocal(var1)\n",
    "varreci2=np.reciprocal(var2)\n",
    "print(varreci1)\n",
    "print(varreci2)"
   ]
  },
  {
   "cell_type": "code",
   "execution_count": 16,
   "id": "c9cf74fa",
   "metadata": {},
   "outputs": [
    {
     "name": "stdout",
     "output_type": "stream",
     "text": [
      "[   1    8   81 1024]\n"
     ]
    }
   ],
   "source": [
    "#1^2=1\n",
    "var1=np.array([1,2,3,4])\n",
    "var2=np.array([2,3,4,5])\n",
    "varpow=np.power(var1,var2)\n",
    "print(varpow)"
   ]
  },
  {
   "cell_type": "markdown",
   "id": "a7cfa23e",
   "metadata": {},
   "source": [
    "\n",
    "# Arithmatic functions"
   ]
  },
  {
   "cell_type": "raw",
   "id": "eee94bf4",
   "metadata": {},
   "source": [
    "1. np.min()\n",
    "2. np.max()\n",
    "3. np.argmin() used for knowing the index no. of min value\n",
    "4. np.argmax() used for knowing the index no. of max value\n",
    "5. np.sqrt()\n",
    "6. np.sin()\n",
    "7. np.cos()\n",
    "8. np.cumsum() used to calculat cumalative sum \n",
    "axis 0=column\n",
    "axis 1=rows"
   ]
  },
  {
   "cell_type": "code",
   "execution_count": 13,
   "id": "cd5d6d05",
   "metadata": {},
   "outputs": [
    {
     "name": "stdout",
     "output_type": "stream",
     "text": [
      "min : [1 2 3 4 1 2 3 7]\n",
      "\n",
      "max : [9 4 5 6 5 6 7 8]\n",
      "\n",
      "index no. of min : [0 4]\n",
      "\n",
      "index no. of max : [7 0]\n",
      "\n",
      "squareroot : [[1.         1.41421356 1.73205081 2.         2.23606798 2.44948974\n",
      "  2.64575131 2.82842712]\n",
      " [3.         2.         2.23606798 2.44948974 1.         1.41421356\n",
      "  1.73205081 2.64575131]]\n",
      "\n",
      "value of sin : [[ 0.84147098  0.90929743  0.14112001 -0.7568025  -0.95892427 -0.2794155\n",
      "   0.6569866   0.98935825]\n",
      " [ 0.41211849 -0.7568025  -0.95892427 -0.2794155   0.84147098  0.90929743\n",
      "   0.14112001  0.6569866 ]]\n",
      "\n",
      "value of cos : [[ 0.54030231 -0.41614684 -0.9899925  -0.65364362  0.28366219  0.96017029\n",
      "   0.75390225 -0.14550003]\n",
      " [-0.91113026 -0.65364362  0.28366219  0.96017029  0.54030231 -0.41614684\n",
      "  -0.9899925   0.75390225]]\n",
      "\n",
      "cumulative sum : [[ 1  3  6 10 15 21 28 36]\n",
      " [ 9 13 18 24 25 27 30 37]]\n"
     ]
    }
   ],
   "source": [
    "import numpy as np\n",
    "var=np.array([[1,2,3,4,5,6,7,8],[9,4,5,6,1,2,3,7]])\n",
    "print(\"min :\",np.min(var,axis=0))\n",
    "print()\n",
    "print(\"max :\",np.max(var,axis=0))\n",
    "print()\n",
    "print(\"index no. of min :\",np.argmin(var,axis=1))\n",
    "print()\n",
    "print(\"index no. of max :\",np.argmax(var,axis=1))\n",
    "print()\n",
    "print(\"squareroot :\",np.sqrt(var))\n",
    "print()\n",
    "print(\"value of sin :\",np.sin(var))\n",
    "print()\n",
    "print(\"value of cos :\",np.cos(var))\n",
    "print()\n",
    "print(\"cumulative sum :\",np.cumsum(var,axis=1))"
   ]
  },
  {
   "cell_type": "code",
   "execution_count": 14,
   "id": "5854aab8",
   "metadata": {},
   "outputs": [
    {
     "name": "stdout",
     "output_type": "stream",
     "text": [
      "min : 1\n",
      "\n",
      "max : 8\n",
      "\n",
      "index no. of min : 0\n",
      "\n",
      "index no. of max : 7\n",
      "\n",
      "squareroot : [1.         1.41421356 1.73205081 2.         2.23606798 2.44948974\n",
      " 2.64575131 2.82842712]\n",
      "\n",
      "value of sin : [ 0.84147098  0.90929743  0.14112001 -0.7568025  -0.95892427 -0.2794155\n",
      "  0.6569866   0.98935825]\n",
      "\n",
      "value of cos : [ 0.54030231 -0.41614684 -0.9899925  -0.65364362  0.28366219  0.96017029\n",
      "  0.75390225 -0.14550003]\n",
      "\n",
      "cumulative sum : [ 1  3  6 10 15 21 28 36]\n"
     ]
    }
   ],
   "source": [
    "import numpy as np\n",
    "var=np.array([1,2,3,4,5,6,7,8])\n",
    "print(\"min :\",np.min(var))\n",
    "print()\n",
    "print(\"max :\",np.max(var))\n",
    "print()\n",
    "print(\"index no. of min :\",np.argmin(var))\n",
    "print()\n",
    "print(\"index no. of max :\",np.argmax(var))\n",
    "print()\n",
    "print(\"squareroot :\",np.sqrt(var))\n",
    "print()\n",
    "print(\"value of sin :\",np.sin(var))\n",
    "print()\n",
    "print(\"value of cos :\",np.cos(var))\n",
    "print()\n",
    "print(\"cumulative sum :\",np.cumsum(var))"
   ]
  },
  {
   "cell_type": "markdown",
   "id": "cd175fe3",
   "metadata": {},
   "source": [
    "# Shape"
   ]
  },
  {
   "cell_type": "code",
   "execution_count": 17,
   "id": "dcd57b1d",
   "metadata": {},
   "outputs": [
    {
     "name": "stdout",
     "output_type": "stream",
     "text": [
      "(7,)\n",
      "(2, 4)\n"
     ]
    }
   ],
   "source": [
    "var=np.array([1,2,3,4,5,6,7])\n",
    "var1=np.array([[1,2,3,4],[5,6,7,8]])\n",
    "print(var.shape)\n",
    "print(var1.shape)"
   ]
  },
  {
   "cell_type": "code",
   "execution_count": 21,
   "id": "aec919f7",
   "metadata": {},
   "outputs": [
    {
     "name": "stdout",
     "output_type": "stream",
     "text": [
      "[[[[1 2 3 4]]]]\n",
      "\n",
      "4\n"
     ]
    }
   ],
   "source": [
    "#ndmin is used to give array the desired dimension\n",
    "var2=np.array([1,2,3,4],ndmin=4)\n",
    "print(var2)\n",
    "print()\n",
    "#ndim is used to know the dimension of array\n",
    "print(var2.ndim)"
   ]
  },
  {
   "cell_type": "markdown",
   "id": "ccedd25e",
   "metadata": {},
   "source": [
    "# Reshape"
   ]
  },
  {
   "cell_type": "code",
   "execution_count": 24,
   "id": "65b1f3a5",
   "metadata": {},
   "outputs": [
    {
     "name": "stdout",
     "output_type": "stream",
     "text": [
      "[[[[1 2 3 4]]]]\n",
      "\n",
      "4\n",
      "(1, 1, 1, 4)\n",
      "\n",
      "[[1 2]\n",
      " [3 4]]\n",
      "2\n",
      "(2, 2)\n"
     ]
    }
   ],
   "source": [
    "var2=np.array([1,2,3,4],ndmin=4)\n",
    "print(var2)\n",
    "print()\n",
    "print(var2.ndim)\n",
    "print(var2.shape)\n",
    "print()\n",
    "\n",
    "var3=var2.reshape(2,2)\n",
    "print(var3)\n",
    "print(var3.ndim)\n",
    "print(var3.shape)"
   ]
  },
  {
   "cell_type": "markdown",
   "id": "34a4b779",
   "metadata": {},
   "source": [
    "\n",
    "# Broadcasting array"
   ]
  },
  {
   "cell_type": "code",
   "execution_count": 8,
   "id": "0b6fcf6f",
   "metadata": {},
   "outputs": [
    {
     "name": "stdout",
     "output_type": "stream",
     "text": [
      "(3,)\n",
      "\n",
      "[1 2 3]\n",
      "\n",
      "(3, 1)\n",
      "\n",
      "[[1]\n",
      " [2]\n",
      " [3]]\n",
      "\n",
      "[[2 3 4]\n",
      " [3 4 5]\n",
      " [4 5 6]]\n"
     ]
    }
   ],
   "source": [
    "import numpy as np\n",
    "x=np.array([1,2,3])\n",
    "print(x.shape)\n",
    "print()\n",
    "\n",
    "print(x)\n",
    "print()\n",
    "\n",
    "y=np.array([[1],[2],[3]])\n",
    "print(y.shape)\n",
    "print()\n",
    "\n",
    "print(y)\n",
    "print()\n",
    "\n",
    "varadd=x+y\n",
    "print(varadd)"
   ]
  },
  {
   "cell_type": "markdown",
   "id": "c2b3cfb5",
   "metadata": {},
   "source": [
    "# Indexing"
   ]
  },
  {
   "cell_type": "code",
   "execution_count": 9,
   "id": "bf8f9bc4",
   "metadata": {},
   "outputs": [
    {
     "name": "stdout",
     "output_type": "stream",
     "text": [
      "\n",
      "(3,)\n",
      "\n",
      "1\n",
      "\n",
      "2\n",
      "2\n"
     ]
    }
   ],
   "source": [
    "var=np.array([1,2,3])\n",
    "print()\n",
    "\n",
    "print(var.shape)\n",
    "print()\n",
    "print(var.ndim)\n",
    "print()\n",
    "\n",
    "print(var[1])\n",
    "print(var[-2])"
   ]
  },
  {
   "cell_type": "code",
   "execution_count": 11,
   "id": "4abd0ab4",
   "metadata": {},
   "outputs": [
    {
     "name": "stdout",
     "output_type": "stream",
     "text": [
      "\n",
      "(2, 2)\n",
      "\n",
      "2\n",
      "\n",
      "2\n",
      "4\n"
     ]
    }
   ],
   "source": [
    "var=np.array([[1,2],[3,4]])\n",
    "print()\n",
    "\n",
    "print(var.shape)\n",
    "print()\n",
    "print(var.ndim)\n",
    "print()\n",
    "\n",
    "print(var[0][1])\n",
    "print(var[1][-1])"
   ]
  },
  {
   "cell_type": "code",
   "execution_count": 14,
   "id": "daa69f9b",
   "metadata": {},
   "outputs": [
    {
     "name": "stdout",
     "output_type": "stream",
     "text": [
      "\n",
      "(1, 2, 3)\n",
      "\n",
      "3\n",
      "\n",
      "5\n",
      "1\n"
     ]
    }
   ],
   "source": [
    "var=np.array([[[1,2,3],[3,4,5]]])\n",
    "print()\n",
    "\n",
    "print(var.shape)\n",
    "print()\n",
    "print(var.ndim)\n",
    "print()\n",
    "\n",
    "print(var[0][1][2])\n",
    "print(var[0][0][0])"
   ]
  },
  {
   "cell_type": "markdown",
   "id": "dee7c4b7",
   "metadata": {},
   "source": [
    "# Slicing"
   ]
  },
  {
   "cell_type": "code",
   "execution_count": 16,
   "id": "116b049e",
   "metadata": {},
   "outputs": [
    {
     "name": "stdout",
     "output_type": "stream",
     "text": [
      "[1 2 3 4 5 6 7 8 9]\n",
      "\n",
      "2 to 5 : [2 3 4 5]\n",
      "start to 5 : [1 2 3 4 5]\n",
      "2 to end : [2 3 4 5 6 7 8 9]\n",
      "gap wala slicing : [3 5]\n"
     ]
    }
   ],
   "source": [
    "var=np.array([1,2,3,4,5,6,7,8,9])\n",
    "print(var)\n",
    "print()\n",
    "print(\"2 to 5 :\",var[1:5])\n",
    "print(\"start to 5 :\",var[:5])\n",
    "print(\"2 to end :\",var[1:])\n",
    "print(\"gap wala slicing :\",var[2:6:2])"
   ]
  },
  {
   "cell_type": "code",
   "execution_count": 17,
   "id": "160ed341",
   "metadata": {},
   "outputs": [
    {
     "name": "stdout",
     "output_type": "stream",
     "text": [
      "[[1 2 3 4]\n",
      " [5 6 7 8]]\n",
      "\n",
      "2 to 5 : [2]\n",
      "start to 5 : [5 6 7 8]\n",
      "2 to end : [6 7 8]\n",
      "gap wala slicing : [3]\n"
     ]
    }
   ],
   "source": [
    "var=np.array([[1,2,3,4],[5,6,7,8]])\n",
    "print(var)\n",
    "print()\n",
    "print(var[0,1:2])\n",
    "print(\"start to 5 :\",var[1,:5])\n",
    "print(\"2 to end :\",var[1,1:])\n",
    "print(\"gap wala slicing :\",var[0,2:6:2])"
   ]
  },
  {
   "cell_type": "markdown",
   "id": "5d73cb88",
   "metadata": {},
   "source": [
    "# Iteration"
   ]
  },
  {
   "cell_type": "raw",
   "id": "a4dd7f6a",
   "metadata": {},
   "source": [
    "1. for loop \n",
    "2. np.nditer()\n",
    "3. np.ndenumerate()"
   ]
  },
  {
   "cell_type": "code",
   "execution_count": 2,
   "id": "8b768f1a",
   "metadata": {},
   "outputs": [
    {
     "name": "stdout",
     "output_type": "stream",
     "text": [
      "[1 2 3 4]\n",
      "\n",
      "1\n",
      "2\n",
      "3\n",
      "4\n"
     ]
    }
   ],
   "source": [
    "import numpy as np\n",
    "var=np.array([1,2,3,4])\n",
    "print(var)\n",
    "print()\n",
    "for i in var:\n",
    "    print(i)"
   ]
  },
  {
   "cell_type": "code",
   "execution_count": 3,
   "id": "f116f1b4",
   "metadata": {},
   "outputs": [
    {
     "name": "stdout",
     "output_type": "stream",
     "text": [
      "[[1 2 3 4]\n",
      " [9 8 7 6]]\n",
      "\n",
      "1\n",
      "2\n",
      "3\n",
      "4\n",
      "9\n",
      "8\n",
      "7\n",
      "6\n"
     ]
    }
   ],
   "source": [
    "import numpy as np\n",
    "var=np.array([[1,2,3,4],[9,8,7,6]])\n",
    "print(var)\n",
    "print()\n",
    "for i in var:\n",
    "    for j in i:\n",
    "        print(j)"
   ]
  },
  {
   "cell_type": "code",
   "execution_count": 6,
   "id": "c0459a0a",
   "metadata": {},
   "outputs": [
    {
     "name": "stdout",
     "output_type": "stream",
     "text": [
      "[[1 2 3 4]\n",
      " [9 8 7 6]]\n",
      "\n",
      "b'1'\n",
      "b'2'\n",
      "b'3'\n",
      "b'4'\n",
      "b'9'\n",
      "b'8'\n",
      "b'7'\n",
      "b'6'\n"
     ]
    }
   ],
   "source": [
    "var=np.array([[1,2,3,4],[9,8,7,6]])\n",
    "print(var)\n",
    "print()\n",
    "for i in np.nditer(var,flags=['buffered'],op_dtypes=\"S\"):\n",
    "    print(i)\n",
    "    "
   ]
  },
  {
   "cell_type": "code",
   "execution_count": 9,
   "id": "ac32451b",
   "metadata": {},
   "outputs": [
    {
     "name": "stdout",
     "output_type": "stream",
     "text": [
      "[[1 2 3 4]\n",
      " [9 8 7 6]]\n",
      "\n",
      "(0, 0) 1\n",
      "(0, 1) 2\n",
      "(0, 2) 3\n",
      "(0, 3) 4\n",
      "(1, 0) 9\n",
      "(1, 1) 8\n",
      "(1, 2) 7\n",
      "(1, 3) 6\n"
     ]
    }
   ],
   "source": [
    "var=np.array([[1,2,3,4],[9,8,7,6]])\n",
    "print(var)\n",
    "print()\n",
    "for i,d in np.ndenumerate(var):\n",
    "    print(i,d)\n",
    "    "
   ]
  },
  {
   "cell_type": "markdown",
   "id": "876521da",
   "metadata": {},
   "source": [
    "# copy vs view"
   ]
  },
  {
   "cell_type": "code",
   "execution_count": 11,
   "id": "ca8d3834",
   "metadata": {},
   "outputs": [
    {
     "name": "stdout",
     "output_type": "stream",
     "text": [
      "x :  [1 2 3 4]\n",
      "copy:  [1 2 3 4]\n",
      "\n",
      "x :  [ 1  2 40  4]\n",
      "copy:  [1 2 3 4]\n"
     ]
    }
   ],
   "source": [
    "x=np.array([1,2,3,4])\n",
    "\n",
    "co=x.copy()\n",
    "print(\"x : \",x)\n",
    "print(\"copy: \",co)\n",
    "x[2]=40\n",
    "print()\n",
    "print(\"x : \",x)\n",
    "print(\"copy: \",co)"
   ]
  },
  {
   "cell_type": "code",
   "execution_count": 12,
   "id": "c6ab4c1e",
   "metadata": {},
   "outputs": [
    {
     "name": "stdout",
     "output_type": "stream",
     "text": [
      "x :  [1 2 3 4]\n",
      "view:  [1 2 3 4]\n",
      "\n",
      "x :  [ 1  2 40  4]\n",
      "view:  [ 1  2 40  4]\n"
     ]
    }
   ],
   "source": [
    "x=np.array([1,2,3,4])\n",
    "\n",
    "vi=x.view()\n",
    "print(\"x : \",x)\n",
    "print(\"view: \",vi)\n",
    "x[2]=40\n",
    "print()\n",
    "print(\"x : \",x)\n",
    "print(\"view: \",vi)"
   ]
  },
  {
   "cell_type": "markdown",
   "id": "de886b1b",
   "metadata": {},
   "source": [
    "# join array"
   ]
  },
  {
   "cell_type": "code",
   "execution_count": 14,
   "id": "b1e3bfe3",
   "metadata": {},
   "outputs": [
    {
     "name": "stdout",
     "output_type": "stream",
     "text": [
      "[2 3 4 5 1 6 7 8]\n"
     ]
    }
   ],
   "source": [
    "ar1=np.array([2,3,4,5])\n",
    "ar2=np.array([1,6,7,8])\n",
    "add=np.concatenate((ar1,ar2))\n",
    "print(add)"
   ]
  },
  {
   "cell_type": "code",
   "execution_count": 20,
   "id": "31846953",
   "metadata": {},
   "outputs": [
    {
     "name": "stdout",
     "output_type": "stream",
     "text": [
      "ar1= [[2 3]\n",
      " [4 5]]\n",
      "\n",
      "ar2= [[1 6]\n",
      " [7 8]]\n",
      "\n",
      "adding in column [[2 3]\n",
      " [4 5]\n",
      " [1 6]\n",
      " [7 8]]\n",
      "\n",
      "adding in row [[2 3 1 6]\n",
      " [4 5 7 8]]\n"
     ]
    }
   ],
   "source": [
    "ar1=np.array([[2,3],[4,5]])\n",
    "ar2=np.array([[1,6],[7,8]])\n",
    "print(\"ar1=\",ar1)\n",
    "print()\n",
    "print(\"ar2=\",ar2)\n",
    "print()\n",
    "add=np.concatenate((ar1,ar2),axis=0)#column\n",
    "print(\"adding in column\",add)\n",
    "print()\n",
    "add=np.concatenate((ar1,ar2),axis=1)#row\n",
    "print(\"adding in row\",add)"
   ]
  },
  {
   "cell_type": "markdown",
   "id": "30e6e9fb",
   "metadata": {},
   "source": [
    "# stack"
   ]
  },
  {
   "cell_type": "code",
   "execution_count": 19,
   "id": "b0741a4d",
   "metadata": {},
   "outputs": [
    {
     "name": "stdout",
     "output_type": "stream",
     "text": [
      "ar1= [[2 3]\n",
      " [4 5]]\n",
      "\n",
      "ar2= [[1 6]\n",
      " [7 8]]\n",
      "\n",
      "adding in column [[[2 3]\n",
      "  [4 5]]\n",
      "\n",
      " [[1 6]\n",
      "  [7 8]]]\n",
      "\n",
      "adding in row [[[2 3]\n",
      "  [1 6]]\n",
      "\n",
      " [[4 5]\n",
      "  [7 8]]]\n"
     ]
    }
   ],
   "source": [
    "ar1=np.array([[2,3],[4,5]])\n",
    "ar2=np.array([[1,6],[7,8]])\n",
    "print(\"ar1=\",ar1)\n",
    "print()\n",
    "print(\"ar2=\",ar2)\n",
    "print()\n",
    "add=np.stack((ar1,ar2),axis=0)#column\n",
    "print(\"adding in column\",add)\n",
    "print()\n",
    "add=np.stack((ar1,ar2),axis=1)#row\n",
    "print(\"adding in row\",add)"
   ]
  },
  {
   "cell_type": "markdown",
   "id": "db827db6",
   "metadata": {},
   "source": [
    "# array_split"
   ]
  },
  {
   "cell_type": "code",
   "execution_count": 2,
   "id": "0b9cb1b7",
   "metadata": {},
   "outputs": [
    {
     "name": "stdout",
     "output_type": "stream",
     "text": [
      "[1 2 3 4 5 6]\n",
      "\n",
      "[array([1, 2]), array([3, 4]), array([5, 6])]\n"
     ]
    }
   ],
   "source": [
    "import numpy as np\n",
    "ar=np.array([1,2,3,4,5,6])\n",
    "print(ar)\n",
    "print()\n",
    "arsplit=np.array_split(ar,3)\n",
    "print(arsplit)\n"
   ]
  },
  {
   "cell_type": "code",
   "execution_count": 3,
   "id": "3c1bcbd3",
   "metadata": {},
   "outputs": [
    {
     "name": "stdout",
     "output_type": "stream",
     "text": [
      "[[1 2 3]\n",
      " [4 5 6]]\n",
      "\n",
      "[array([[1, 2, 3]]), array([[4, 5, 6]]), array([], shape=(0, 3), dtype=int32)]\n"
     ]
    }
   ],
   "source": [
    "ar=np.array([[1,2,3],[4,5,6]])\n",
    "print(ar)\n",
    "print()\n",
    "arsplit=np.array_split(ar,3)\n",
    "print(arsplit)"
   ]
  },
  {
   "cell_type": "markdown",
   "id": "0a330370",
   "metadata": {},
   "source": [
    "# search"
   ]
  },
  {
   "cell_type": "code",
   "execution_count": 2,
   "id": "039377a4",
   "metadata": {},
   "outputs": [
    {
     "name": "stdout",
     "output_type": "stream",
     "text": [
      "(array([1, 4, 7], dtype=int64),)\n"
     ]
    }
   ],
   "source": [
    "import numpy as np\n",
    "var=np.array([1,2,3,4,2,3,4,2,3,4,7])\n",
    "#index        0,1,2,3,4,5,6,7,8,9,10\n",
    "sarr=np.where(var==2)\n",
    "print(sarr)"
   ]
  },
  {
   "cell_type": "code",
   "execution_count": 7,
   "id": "b43b23f7",
   "metadata": {},
   "outputs": [
    {
     "name": "stdout",
     "output_type": "stream",
     "text": [
      "6\n"
     ]
    }
   ],
   "source": [
    "import numpy as np\n",
    "var=np.array([1,2,3,4,5,6,8,9,10,11])\n",
    "#index        0,1,2,3,4,5,6,7,8,9,10\n",
    "sarr=np.searchsorted(var,7,side=\"right\")\n",
    "print(sarr)"
   ]
  },
  {
   "cell_type": "markdown",
   "id": "57a7af7f",
   "metadata": {},
   "source": [
    "# sort"
   ]
  },
  {
   "cell_type": "code",
   "execution_count": 10,
   "id": "353f9ce0",
   "metadata": {},
   "outputs": [
    {
     "name": "stdout",
     "output_type": "stream",
     "text": [
      "[ 1  2  2  3  4  5  6  8  9 10 11 45]\n"
     ]
    }
   ],
   "source": [
    "var=np.array([1,4,5,6,3,2,8,10,2,11,45,9])\n",
    "#index        0,1,2,3,4,5,6,7,8,9,10,11,12\n",
    "sarr=np.sort(var)\n",
    "print(sarr)"
   ]
  },
  {
   "cell_type": "code",
   "execution_count": 15,
   "id": "4e1d6a48",
   "metadata": {},
   "outputs": [
    {
     "name": "stdout",
     "output_type": "stream",
     "text": [
      "[[ 1  4  5]\n",
      " [ 2  3  6]\n",
      " [ 2  8 10]\n",
      " [ 9 11 45]]\n",
      "\n",
      "[[ 1  4  5]\n",
      " [ 2  3  6]\n",
      " [ 2  8 10]\n",
      " [ 9 11 45]]\n",
      "\n",
      "[[ 1  3  2]\n",
      " [ 6  4  2]\n",
      " [ 8 10  5]\n",
      " [11 45  9]]\n"
     ]
    }
   ],
   "source": [
    "var=np.array([[1,4,5],[6,3,2],[8,10,2],[11,45,9]])\n",
    "#index        0,1,2,3,4,5,6,7,8,9,10,11,12\n",
    "sarr=np.sort(var)\n",
    "print(sarr)\n",
    "print()\n",
    "sarr=np.sort(var,axis=1)\n",
    "print(sarr)\n",
    "print()\n",
    "sarr1=np.sort(var,axis=0)\n",
    "print(sarr1)"
   ]
  },
  {
   "cell_type": "code",
   "execution_count": 16,
   "id": "a8245a2d",
   "metadata": {},
   "outputs": [
    {
     "name": "stdout",
     "output_type": "stream",
     "text": [
      "['a' 'e' 'i' 'o' 'u']\n"
     ]
    }
   ],
   "source": [
    "var=np.array([\"a\",\"u\",\"e\",\"o\",\"i\"])\n",
    "\n",
    "sarr=np.sort(var)\n",
    "print(sarr)"
   ]
  },
  {
   "cell_type": "markdown",
   "id": "2e410d27",
   "metadata": {},
   "source": [
    "# Filter Array"
   ]
  },
  {
   "cell_type": "code",
   "execution_count": 19,
   "id": "da8ab1e5",
   "metadata": {},
   "outputs": [
    {
     "name": "stdout",
     "output_type": "stream",
     "text": [
      "['a' 'o' 'i']\n"
     ]
    }
   ],
   "source": [
    "var=np.array([\"a\",\"u\",\"e\",\"o\",\"i\"])\n",
    "f=[True,False,False,True,True]\n",
    "sarr=var[f]\n",
    "print(sarr)"
   ]
  },
  {
   "cell_type": "markdown",
   "id": "c540b404",
   "metadata": {},
   "source": [
    "# shuffle"
   ]
  },
  {
   "cell_type": "code",
   "execution_count": 22,
   "id": "6268cd19",
   "metadata": {},
   "outputs": [
    {
     "name": "stdout",
     "output_type": "stream",
     "text": [
      "[ 9 10  4  2 11  8  5  1  3  6]\n"
     ]
    }
   ],
   "source": [
    "var=np.array([1,2,3,4,5,6,8,9,10,11])\n",
    "#index        0,1,2,3,4,5,6,7,8,9,10\n",
    "np.random.shuffle(var)\n",
    "print(var)"
   ]
  },
  {
   "cell_type": "markdown",
   "id": "442c8e6b",
   "metadata": {},
   "source": [
    "# unique"
   ]
  },
  {
   "cell_type": "code",
   "execution_count": 25,
   "id": "d10e6fb3",
   "metadata": {},
   "outputs": [
    {
     "name": "stdout",
     "output_type": "stream",
     "text": [
      "[ 1  2  3  5  6  8  9 10 11]\n",
      "\n",
      "(array([ 1,  2,  3,  5,  6,  8,  9, 10, 11]), array([ 0,  1,  4,  2,  3,  6, 11,  7,  9], dtype=int64), array([1, 4, 1, 1, 1, 1, 1, 1, 1], dtype=int64))\n",
      "\n"
     ]
    }
   ],
   "source": [
    "var=np.array([1,2,5,6,3,2,8,10,2,11,2,9])\n",
    "#index        0,1,2,3,4,5,6,7,8,9,10,11,12\n",
    "sarr=np.unique(var)\n",
    "print(sarr)\n",
    "print()\n",
    "sarr1=np.unique(var,return_index=True,return_counts=True)\n",
    "print(sarr1)\n",
    "print()\n"
   ]
  },
  {
   "cell_type": "markdown",
   "id": "84434535",
   "metadata": {},
   "source": [
    "# resize"
   ]
  },
  {
   "cell_type": "code",
   "execution_count": 26,
   "id": "3f17f5ca",
   "metadata": {},
   "outputs": [
    {
     "name": "stdout",
     "output_type": "stream",
     "text": [
      "[[1 2 3]\n",
      " [4 5 6]]\n"
     ]
    }
   ],
   "source": [
    "var=np.array([1,2,3,4,5,6])\n",
    "y=np.resize(var,(2,3))\n",
    "print(y)"
   ]
  },
  {
   "cell_type": "markdown",
   "id": "df497b59",
   "metadata": {},
   "source": [
    "# flatten"
   ]
  },
  {
   "cell_type": "code",
   "execution_count": 28,
   "id": "aa51ec33",
   "metadata": {},
   "outputs": [
    {
     "name": "stdout",
     "output_type": "stream",
     "text": [
      "[[1 2 3]\n",
      " [4 5 6]]\n",
      "[1 2 3 4 5 6]\n"
     ]
    }
   ],
   "source": [
    "var=np.array([1,2,3,4,5,6])\n",
    "y=np.resize(var,(2,3))\n",
    "print(y)\n",
    "#order={'C','F','A','K'}\n",
    "# C=row major\n",
    "# F=column major\n",
    "# A=means to flatten in column major if it is contiguous otherwise row major\n",
    "# K=means to flatten in the order of element in the memory\n",
    "arr=y.flatten(order=\"C\")\n",
    "print(arr)"
   ]
  },
  {
   "cell_type": "code",
   "execution_count": 30,
   "id": "c1689451",
   "metadata": {},
   "outputs": [
    {
     "name": "stdout",
     "output_type": "stream",
     "text": [
      "[[1 2 3]\n",
      " [4 5 6]]\n",
      "\n",
      "[1 2 3 4 5 6]\n"
     ]
    }
   ],
   "source": [
    "var=np.array([1,2,3,4,5,6])\n",
    "y=np.resize(var,(2,3))\n",
    "print(y)\n",
    "print()\n",
    "arr=y.ravel()\n",
    "print(arr)"
   ]
  },
  {
   "cell_type": "markdown",
   "id": "4ee4acce",
   "metadata": {},
   "source": [
    "# insert"
   ]
  },
  {
   "cell_type": "code",
   "execution_count": 31,
   "id": "626f7ad4",
   "metadata": {},
   "outputs": [
    {
     "name": "stdout",
     "output_type": "stream",
     "text": [
      "[1 2 3 4]\n",
      "\n",
      "[ 1  2  3 40  4]\n"
     ]
    }
   ],
   "source": [
    "var=np.array([1,2,3,4])\n",
    "print(var)\n",
    "print()\n",
    "x=np.insert(var,3,40)\n",
    "print(x)"
   ]
  },
  {
   "cell_type": "code",
   "execution_count": 49,
   "id": "024557cc",
   "metadata": {},
   "outputs": [
    {
     "name": "stdout",
     "output_type": "stream",
     "text": [
      "[[1 2 3]\n",
      " [2 3 4]]\n",
      "\n",
      "[[ 1  2  3]\n",
      " [40 40 40]\n",
      " [ 2  3  4]]\n",
      "\n",
      "[[ 1  4  2  3]\n",
      " [ 2 40  3  4]]\n"
     ]
    }
   ],
   "source": [
    "var=np.array([[1,2,3],[2,3,4]])\n",
    "print(var)\n",
    "print()\n",
    "x=np.insert(var,1,40,axis=0)\n",
    "print(x)\n",
    "print()\n",
    "x=np.insert(var,1,[4,40],axis=1)\n",
    "print(x)"
   ]
  },
  {
   "cell_type": "code",
   "execution_count": 37,
   "id": "f50710e3",
   "metadata": {},
   "outputs": [
    {
     "name": "stdout",
     "output_type": "stream",
     "text": [
      "[1 2 3 4]\n",
      "\n",
      "[ 1  2  3  4 40]\n"
     ]
    }
   ],
   "source": [
    "var=np.array([1,2,3,4])\n",
    "print(var)\n",
    "print()\n",
    "x=np.append(var,40)\n",
    "print(x)"
   ]
  },
  {
   "cell_type": "code",
   "execution_count": 72,
   "id": "1aa2a282",
   "metadata": {},
   "outputs": [
    {
     "name": "stdout",
     "output_type": "stream",
     "text": [
      "[[1 2 3]\n",
      " [5 4 4]\n",
      " [4 7 8]]\n",
      "\n",
      "[ 1  2  3  5  4  4  4  7  8 40]\n"
     ]
    }
   ],
   "source": [
    "var=np.array([[1,2,3],[5,4,4],[4,7,8]])\n",
    "print(var)\n",
    "print()\n",
    "x=np.append(var,40)\n",
    "print(x)\n"
   ]
  },
  {
   "cell_type": "markdown",
   "id": "8948ef4f",
   "metadata": {},
   "source": [
    "# delete"
   ]
  },
  {
   "cell_type": "code",
   "execution_count": 53,
   "id": "23e6295e",
   "metadata": {},
   "outputs": [
    {
     "name": "stdout",
     "output_type": "stream",
     "text": [
      "[1 2 3 4]\n",
      "\n",
      "[1 2 4]\n"
     ]
    }
   ],
   "source": [
    "var=np.array([1,2,3,4])\n",
    "print(var)\n",
    "print()\n",
    "x=np.delete(var,2)\n",
    "print(x)"
   ]
  },
  {
   "cell_type": "code",
   "execution_count": 57,
   "id": "c65394a4",
   "metadata": {},
   "outputs": [
    {
     "name": "stdout",
     "output_type": "stream",
     "text": [
      "[[1 2 3 4]\n",
      " [7 8 9 5]]\n",
      "\n",
      "[[1 2 3 4]]\n",
      "\n",
      "[[1 3 4]\n",
      " [7 9 5]]\n"
     ]
    }
   ],
   "source": [
    "var=np.array([[1,2,3,4],[7,8,9,5]])\n",
    "print(var)\n",
    "print()\n",
    "x=np.delete(var,[1],axis=0)\n",
    "print(x)\n",
    "print()\n",
    "x=np.delete(var,[1],axis=1)\n",
    "print(x)"
   ]
  },
  {
   "cell_type": "markdown",
   "id": "7d885f80",
   "metadata": {},
   "source": [
    "# Matrix"
   ]
  },
  {
   "cell_type": "code",
   "execution_count": 59,
   "id": "0dabcec9",
   "metadata": {},
   "outputs": [
    {
     "name": "stdout",
     "output_type": "stream",
     "text": [
      "[[1 2 3]\n",
      " [4 5 6]\n",
      " [7 8 9]]\n",
      "\n",
      "[[ 30  36  42]\n",
      " [ 66  81  96]\n",
      " [102 126 150]]\n",
      "\n",
      "[[ 30  36  42]\n",
      " [ 66  81  96]\n",
      " [102 126 150]]\n"
     ]
    }
   ],
   "source": [
    "var=np.matrix([[1,2,3],[4,5,6],[7,8,9]])\n",
    "print(var)\n",
    "print()\n",
    "print(var.dot(var))\n",
    "print()\n",
    "print(var*var)"
   ]
  },
  {
   "cell_type": "code",
   "execution_count": 61,
   "id": "f0c6d9aa",
   "metadata": {},
   "outputs": [
    {
     "name": "stdout",
     "output_type": "stream",
     "text": [
      "[[1 2 3]\n",
      " [4 5 6]\n",
      " [7 8 9]]\n",
      "\n",
      "[[ 30  36  42]\n",
      " [ 66  81  96]\n",
      " [102 126 150]]\n",
      "\n",
      "[[ 1  4  9]\n",
      " [16 25 36]\n",
      " [49 64 81]]\n"
     ]
    }
   ],
   "source": [
    "var=np.array([[1,2,3],[4,5,6],[7,8,9]])\n",
    "print(var)\n",
    "print()\n",
    "print(var.dot(var))\n",
    "print()\n",
    "print(var*var)"
   ]
  },
  {
   "cell_type": "markdown",
   "id": "a181b723",
   "metadata": {},
   "source": [
    "# Matrix function"
   ]
  },
  {
   "cell_type": "code",
   "execution_count": 66,
   "id": "3b4720c5",
   "metadata": {},
   "outputs": [
    {
     "name": "stdout",
     "output_type": "stream",
     "text": [
      "[[1 2 3]\n",
      " [4 5 6]\n",
      " [7 8 9]]\n",
      "\n",
      "[[1 4 7]\n",
      " [2 5 8]\n",
      " [3 6 9]]\n",
      "\n",
      "[[1 4 7]\n",
      " [2 5 8]\n",
      " [3 6 9]]\n",
      "\n",
      "[[1 4 7]\n",
      " [2 5 8]\n",
      " [3 6 9]]\n"
     ]
    }
   ],
   "source": [
    "var=np.array([[1,2,3],[4,5,6],[7,8,9]])\n",
    "print(var)\n",
    "print()\n",
    "print(np.transpose(var))\n",
    "print()\n",
    "print(var.T)\n",
    "print()\n",
    "print(np.swapaxes(var,1,0))"
   ]
  },
  {
   "cell_type": "markdown",
   "id": "900a57ec",
   "metadata": {},
   "source": [
    "Inverse"
   ]
  },
  {
   "cell_type": "code",
   "execution_count": 69,
   "id": "d2a64c46",
   "metadata": {},
   "outputs": [
    {
     "name": "stdout",
     "output_type": "stream",
     "text": [
      "[[1 2 3]\n",
      " [4 5 6]\n",
      " [7 8 9]]\n",
      "\n",
      "[[ 3.15251974e+15 -6.30503948e+15  3.15251974e+15]\n",
      " [-6.30503948e+15  1.26100790e+16 -6.30503948e+15]\n",
      " [ 3.15251974e+15 -6.30503948e+15  3.15251974e+15]]\n"
     ]
    }
   ],
   "source": [
    "var=np.array([[1,2,3],[4,5,6],[7,8,9]])\n",
    "print(var)\n",
    "print()\n",
    "print(np.linalg.inv(var))"
   ]
  },
  {
   "cell_type": "markdown",
   "id": "716768ca",
   "metadata": {},
   "source": [
    "power"
   ]
  },
  {
   "cell_type": "code",
   "execution_count": 70,
   "id": "bf4ae48c",
   "metadata": {},
   "outputs": [
    {
     "name": "stdout",
     "output_type": "stream",
     "text": [
      "[[1 2 3]\n",
      " [4 5 6]\n",
      " [7 8 9]]\n",
      "\n",
      "[[1 0 0]\n",
      " [0 1 0]\n",
      " [0 0 1]]\n",
      "\n",
      "[[ 30  36  42]\n",
      " [ 66  81  96]\n",
      " [102 126 150]]\n",
      "\n",
      "[[ 3.15251974e+15 -6.30503948e+15  3.15251974e+15]\n",
      " [-6.30503948e+15  1.26100790e+16 -6.30503948e+15]\n",
      " [ 3.15251974e+15 -6.30503948e+15  3.15251974e+15]]\n"
     ]
    }
   ],
   "source": [
    "var=np.array([[1,2,3],[4,5,6],[7,8,9]])\n",
    "print(var)\n",
    "print()\n",
    "print(np.linalg.matrix_power(var,0))#identity matrix\n",
    "print()\n",
    "print(np.linalg.matrix_power(var,2))#multiplication\n",
    "print()\n",
    "print(np.linalg.matrix_power(var,-1))#inverse*power"
   ]
  },
  {
   "cell_type": "markdown",
   "id": "0e7705dd",
   "metadata": {},
   "source": [
    "Determinant"
   ]
  },
  {
   "cell_type": "code",
   "execution_count": 71,
   "id": "7e2133a4",
   "metadata": {},
   "outputs": [
    {
     "name": "stdout",
     "output_type": "stream",
     "text": [
      "[[1 2 3]\n",
      " [4 5 6]\n",
      " [7 8 9]]\n",
      "\n",
      "-9.51619735392994e-16\n"
     ]
    }
   ],
   "source": [
    "var=np.array([[1,2,3],[4,5,6],[7,8,9]])\n",
    "print(var)\n",
    "print()\n",
    "print(np.linalg.det(var))"
   ]
  },
  {
   "cell_type": "code",
   "execution_count": null,
   "id": "d783d9df",
   "metadata": {},
   "outputs": [],
   "source": []
  }
 ],
 "metadata": {
  "kernelspec": {
   "display_name": "Python 3 (ipykernel)",
   "language": "python",
   "name": "python3"
  },
  "language_info": {
   "codemirror_mode": {
    "name": "ipython",
    "version": 3
   },
   "file_extension": ".py",
   "mimetype": "text/x-python",
   "name": "python",
   "nbconvert_exporter": "python",
   "pygments_lexer": "ipython3",
   "version": "3.9.12"
  }
 },
 "nbformat": 4,
 "nbformat_minor": 5
}
